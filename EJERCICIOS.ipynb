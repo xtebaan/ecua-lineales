{
  "nbformat": 4,
  "nbformat_minor": 0,
  "metadata": {
    "colab": {
      "provenance": [],
      "include_colab_link": true
    },
    "kernelspec": {
      "name": "python3",
      "display_name": "Python 3"
    },
    "language_info": {
      "name": "python"
    }
  },
  "cells": [
    {
      "cell_type": "markdown",
      "metadata": {
        "id": "view-in-github",
        "colab_type": "text"
      },
      "source": [
        "<a href=\"https://colab.research.google.com/github/xtebaan/ecua-lineales/blob/main/EJERCICIOS.ipynb\" target=\"_parent\"><img src=\"https://colab.research.google.com/assets/colab-badge.svg\" alt=\"Open In Colab\"/></a>"
      ]
    },
    {
      "cell_type": "markdown",
      "source": [
        "1.\tEliminación de Gauss\n",
        "\n",
        "Ejercicio 1: Eliminación de Gauss aplicada en la retropropagación de redes neuronales\n"
      ],
      "metadata": {
        "id": "xVWi109ppGES"
      }
    },
    {
      "cell_type": "code",
      "source": [
        "import numpy as np\n",
        "\n",
        "A=np.array([[2,3,1],\n",
        "           [4,1,2],\n",
        "           [3,4,2]], dtype=float)\n",
        "\n",
        "b=np.array([0.5,-1.0,1.5], dtype=float)\n",
        "sol=np.linalg.solve(A,b)\n",
        "\n",
        "print(\"solucion del sistema: \")\n",
        "print(f\"x={sol[0]:.4f},y= {sol[1]:.4f},z={sol[2]:.4f}\")"
      ],
      "metadata": {
        "id": "etAIhjwjq10w",
        "outputId": "78f8c604-8ede-4b3b-beed-37b753f5f90d",
        "colab": {
          "base_uri": "https://localhost:8080/"
        }
      },
      "execution_count": 7,
      "outputs": [
        {
          "output_type": "stream",
          "name": "stdout",
          "text": [
            "solucion del sistema: \n",
            "x=-1.3000,y= 0.4000,z=1.9000\n"
          ]
        }
      ]
    },
    {
      "cell_type": "markdown",
      "source": [
        "2. GAUSS"
      ],
      "metadata": {
        "id": "-in0akcovuC5"
      }
    },
    {
      "cell_type": "code",
      "source": [
        "import numpy as np\n",
        "\n",
        "A=np.array([[3,-0.1,-0.2],\n",
        "           [0.1,0.7,-0.3],\n",
        "           [0.3,-0.2,10]], dtype=float)\n",
        "\n",
        "b=np.array([7.85,-19.3,71.4], dtype=float)\n",
        "sol=np.linalg.solve(A,b)\n",
        "\n",
        "print(\"solucion del sistema: \")\n",
        "print(f\"x={sol[0]:.4f},y= {sol[1]:.4f},z={sol[2]:.4f}\")"
      ],
      "metadata": {
        "colab": {
          "base_uri": "https://localhost:8080/"
        },
        "id": "GmX4hDVfvsNC",
        "outputId": "7ef9cdf1-a19e-408f-ecef-0f8811bcbf2a"
      },
      "execution_count": 8,
      "outputs": [
        {
          "output_type": "stream",
          "name": "stdout",
          "text": [
            "solucion del sistema: \n",
            "x=2.2191,y= -25.0719,z=6.5720\n"
          ]
        }
      ]
    },
    {
      "cell_type": "markdown",
      "source": [
        "2.Método de la Matriz Inversa\n",
        "Ejercicio 2:  Matriz Inversa para calcular los pesos ajustados"
      ],
      "metadata": {
        "id": "9KRdsJ9lrG_9"
      }
    },
    {
      "cell_type": "code",
      "source": [
        "# Matriz de coeficientes\n",
        "A = np.array([[3,-0.1,-0.2],\n",
        "              [0.1,0.7,-0.3],\n",
        "              [0.3,-0.2,10]], dtype=float)\n",
        "\n",
        "# Vector de salida deseada\n",
        "b = np.array([7.85,-19.3,71.4], dtype=float)\n",
        "\n",
        "# Calcular la matriz inversa\n",
        "A_inv = np.linalg.inv(A)\n",
        "\n",
        "# Multiplicar A_inv por el vector b\n",
        "sol = np.dot(A_inv, b)\n",
        "\n",
        "# Mostrar la solución\n",
        "print(\"Pesos ajustados:\")\n",
        "print(f\"w1 = {sol[0]:.4f}, w2 = {sol[1]:.4f}, w3 = {sol[2]:.4f}\")\n"
      ],
      "metadata": {
        "id": "sNF5yWr6rfPG",
        "colab": {
          "base_uri": "https://localhost:8080/"
        },
        "outputId": "cd2e6f00-3600-40f8-a358-8ca75ca52caa"
      },
      "execution_count": 5,
      "outputs": [
        {
          "output_type": "stream",
          "name": "stdout",
          "text": [
            "Pesos ajustados:\n",
            "w1 = 2.2191, w2 = -25.0719, w3 = 6.5720\n"
          ]
        }
      ]
    },
    {
      "cell_type": "markdown",
      "source": [
        "3.\tMétodo de Jacobi\n",
        "Ejercicio 3: Método de Jacobi aplicado a la actualización de los parámetros de la red"
      ],
      "metadata": {
        "id": "63Rn6YMwru-T"
      }
    },
    {
      "cell_type": "code",
      "source": [
        "def jacobi(A, b, x0, tol=1e-10, max_iter=1000):\n",
        "    n = len(b)\n",
        "    x = x0\n",
        "    for k in range(max_iter):\n",
        "        x_new = np.zeros_like(x)\n",
        "        for i in range(n):\n",
        "            s = sum(A[i][j] * x[j] for j in range(n) if i != j)\n",
        "            x_new[i] = (b[i] - s) / A[i][i]\n",
        "        if np.linalg.norm(x_new - x, ord=np.inf) < tol:\n",
        "            return x_new\n",
        "        x = x_new\n",
        "    return x\n",
        "\n",
        "# Matriz de coeficientes\n",
        "A = np.array([[10, -1, 2],\n",
        "              [-1, 11, -1],\n",
        "              [2, -1, 10]], dtype=float)\n",
        "\n",
        "# Vector de errores\n",
        "b = np.array([0.6, 1.5, 2.1], dtype=float)\n",
        "\n",
        "# Aproximación inicial\n",
        "x0 = np.zeros_like(b)\n",
        "\n",
        "# Aplicar el método de Jacobi\n",
        "sol = jacobi(A, b, x0)\n",
        "print(\"Pesos ajustados usando Jacobi:\")\n",
        "print(sol)"
      ],
      "metadata": {
        "id": "PRELQPqIr3NM",
        "colab": {
          "base_uri": "https://localhost:8080/"
        },
        "outputId": "3cdd9240-0c1e-442b-c25f-4ce17afa3e60"
      },
      "execution_count": 6,
      "outputs": [
        {
          "output_type": "stream",
          "name": "stdout",
          "text": [
            "Pesos ajustados usando Jacobi:\n",
            "[0.03201923 0.15923077 0.21951923]\n"
          ]
        }
      ]
    },
    {
      "cell_type": "markdown",
      "source": [
        "4. Método Iterativo de Gauss-Seidel\n",
        "\n",
        "Ejercicio 4: Método Iterativo de Gauss-Seidel para actualización de parámetros\n"
      ],
      "metadata": {
        "id": "Ns7LETF8r6tN"
      }
    },
    {
      "cell_type": "code",
      "source": [
        "import numpy as np\n",
        "\n",
        "def gauss_seidel(A, b, x0, tol=1e-10, max_iter=1000):\n",
        "    n = len(b)\n",
        "    x = x0\n",
        "    for k in range(max_iter):\n",
        "        x_new = np.copy(x)\n",
        "        for i in range(n):\n",
        "            s1 = sum(A[i][j] * x_new[j] for j in range(i))\n",
        "            s2 = sum(A[i][j] * x[j] for j in range(i+1, n))\n",
        "            x_new[i] = (b[i] - s1 - s2) / A[i][i]\n",
        "        if np.linalg.norm(x_new - x, ord=np.inf) < tol:\n",
        "            return x_new, k\n",
        "        x = x_new\n",
        "    return x, max_iter\n",
        "\n",
        "# Matriz de coeficientes\n",
        "A = np.array([[10, -1, 2 ],\n",
        "              [-1, 11, -1],\n",
        "              [2, -1, 10]\n",
        "              ], dtype=float)\n",
        "\n",
        "# Vector de términos independientes\n",
        "b = np.array([5,6,7], dtype=float)\n",
        "\n",
        "# Valor inicial de las incógnitas\n",
        "x0 = np.zeros_like(b)\n",
        "\n",
        "# Resolver el sistema usando el método de Gauss-Seidel\n",
        "sol, iteraciones = gauss_seidel(A, b, x0)\n",
        "\n",
        "# Mostrar la solución y el número de iteraciones\n",
        "print(\"Solución del sistema:\")\n",
        "print(sol)\n",
        "print(f\"Número de iteraciones: {iteraciones}\")\n",
        "\n"
      ],
      "metadata": {
        "id": "JE-eMydVsFnR",
        "colab": {
          "base_uri": "https://localhost:8080/"
        },
        "outputId": "cc14082d-e653-435e-831b-5476c1008532"
      },
      "execution_count": 9,
      "outputs": [
        {
          "output_type": "stream",
          "name": "stdout",
          "text": [
            "Solución del sistema:\n",
            "[0.42884615 0.64615385 0.67884615]\n",
            "Número de iteraciones: 8\n"
          ]
        }
      ]
    },
    {
      "cell_type": "markdown",
      "source": [
        "5. Descomposición Cholesky\n",
        "Ejercicio 5: Descomposición de Cholesky aplicada a una red neuronal"
      ],
      "metadata": {
        "id": "6DUIPhlZsHCp"
      }
    },
    {
      "cell_type": "code",
      "source": [
        "from scipy.linalg import cholesky\n",
        "\n",
        "# Matriz y vector\n",
        "A = np.array([[25,15,-5],\n",
        "              [15,18,0],\n",
        "              [-5,0,11]], dtype=float)\n",
        "\n",
        "b = np.array([350,400,200], dtype=float)\n",
        "# Descomposición de Cholesky\n",
        "L = cholesky(A, lower=True)\n",
        "\n",
        "# Resolver Ly = b\n",
        "y = np.linalg.solve(L, b)\n",
        "\n",
        "# Resolver L^T x = y\n",
        "x = np.linalg.solve(L.T, y)\n",
        "\n",
        "print(\"Pesos ajustados usando Cholesky:\")\n",
        "print(x)\n"
      ],
      "metadata": {
        "id": "LMjRYPEGsOqV",
        "colab": {
          "base_uri": "https://localhost:8080/"
        },
        "outputId": "c08623af-b46c-45d7-d864-9af6d0a55474"
      },
      "execution_count": 10,
      "outputs": [
        {
          "output_type": "stream",
          "name": "stdout",
          "text": [
            "Pesos ajustados usando Cholesky:\n",
            "[10.51851852 13.45679012 22.96296296]\n"
          ]
        }
      ]
    }
  ]
}